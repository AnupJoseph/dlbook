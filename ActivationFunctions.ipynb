{
  "nbformat": 4,
  "nbformat_minor": 0,
  "metadata": {
    "colab": {
      "provenance": []
    },
    "kernelspec": {
      "name": "python3",
      "display_name": "Python 3"
    },
    "language_info": {
      "name": "python"
    }
  },
  "cells": [
    {
      "cell_type": "code",
      "execution_count": 24,
      "metadata": {
        "id": "L19WUJbGVN7e"
      },
      "outputs": [],
      "source": [
        "# Internal\n",
        "from pathlib import Path\n",
        "\n",
        "# External\n",
        "import numpy as np\n",
        "import torch\n",
        "import torch.nn as nn\n",
        "import httpx\n",
        "\n",
        "# project Configs\n",
        "DATASET_PATH = Path(\"./data\")\n",
        "CHECKPOINT_PATH = Path(\"./models\")\n",
        "torch.backends.cudnn.benchmark=False\n",
        "torch.backends.cudnn.deterministic=True\n",
        "DEVICE = torch.device(\"cuda:0\") if torch.cuda.is_available() else torch.device(\"cpu\")"
      ]
    },
    {
      "cell_type": "code",
      "source": [
        "def set_seed(seed=42):\n",
        "  np.random.seed(seed)\n",
        "  torch.manual_seed(seed)\n",
        "  if torch.cuda.is_available():\n",
        "    torch.cuda.manual_seed(seed)\n",
        "    torch.cuda.manual_seed_all(seed)\n",
        "set_seed(42)"
      ],
      "metadata": {
        "id": "lmHN25nFWYyX"
      },
      "execution_count": 25,
      "outputs": []
    },
    {
      "cell_type": "code",
      "source": [
        "base_url = \"https://raw.githubusercontent.com/phlippe/saved_models/main/tutorial3/\"\n",
        "# Files to download\n",
        "pretrained_files = [\"FashionMNIST_elu.config\", \"FashionMNIST_elu.tar\",\n",
        "                    \"FashionMNIST_leakyrelu.config\", \"FashionMNIST_leakyrelu.tar\",\n",
        "                    \"FashionMNIST_relu.config\", \"FashionMNIST_relu.tar\",\n",
        "                    \"FashionMNIST_sigmoid.config\", \"FashionMNIST_sigmoid.tar\",\n",
        "                    \"FashionMNIST_swish.config\", \"FashionMNIST_swish.tar\",\n",
        "                    \"FashionMNIST_tanh.config\", \"FashionMNIST_tanh.tar\"]"
      ],
      "metadata": {
        "id": "BNkIPlpTX_Z-"
      },
      "execution_count": 26,
      "outputs": []
    },
    {
      "cell_type": "code",
      "source": [
        "if not DATASET_PATH.exists():\n",
        "  DATASET_PATH.mkdir(parents=True, exist_ok=True)\n",
        "\n",
        "for file_path in pretrained_files:\n",
        "  file_url = base_url+file_path\n",
        "  file_path = DATASET_PATH / file_path\n",
        "  response = httpx.get(str(file_url))\n",
        "  with open(file_path, \"wb\") as f:\n",
        "    f.write(response.content)"
      ],
      "metadata": {
        "id": "FkLQiWo2Xyxw"
      },
      "execution_count": 27,
      "outputs": []
    },
    {
      "cell_type": "code",
      "source": [
        "class ActivationFunction(nn.Module):\n",
        "\n",
        "  def __init__(self) -> None:\n",
        "    super().__init__()\n",
        "    self.name = self.__class__.__name__\n",
        "    self.config = {\"name\":self.name}"
      ],
      "metadata": {
        "id": "PAsH2J93fCLY"
      },
      "execution_count": 28,
      "outputs": []
    },
    {
      "cell_type": "code",
      "source": [
        "class Sigmoid(ActivationFunction):\n",
        "  def forward(self,x):\n",
        "    return 1/(1+torch.exp(-x))\n",
        "\n",
        "class Tanh(ActivationFunction):\n",
        "  def forward(self,x):\n",
        "    x_exp,neg_x_exp = torch.exp(x), torch.exp(-x)\n",
        "    return (x_exp - neg_x_exp)/(x_exp + neg_x_exp)"
      ],
      "metadata": {
        "id": "MlwzU81ahXkU"
      },
      "execution_count": 29,
      "outputs": []
    },
    {
      "cell_type": "code",
      "source": [],
      "metadata": {
        "id": "slWD2LZliZ0D"
      },
      "execution_count": null,
      "outputs": []
    }
  ]
}